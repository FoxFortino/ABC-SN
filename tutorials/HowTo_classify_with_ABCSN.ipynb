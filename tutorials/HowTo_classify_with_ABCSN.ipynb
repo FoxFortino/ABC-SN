{
 "cells": [
  {
   "cell_type": "code",
   "execution_count": 1,
   "id": "ccb97a3e-748f-4f09-9e7e-0422bd7ca49b",
   "metadata": {},
   "outputs": [
    {
     "name": "stderr",
     "output_type": "stream",
     "text": [
      "2025-07-30 17:14:59.423344: E external/local_xla/xla/stream_executor/cuda/cuda_fft.cc:485] Unable to register cuFFT factory: Attempting to register factory for plugin cuFFT when one has already been registered\n",
      "2025-07-30 17:14:59.441887: E external/local_xla/xla/stream_executor/cuda/cuda_dnn.cc:8454] Unable to register cuDNN factory: Attempting to register factory for plugin cuDNN when one has already been registered\n",
      "2025-07-30 17:14:59.447487: E external/local_xla/xla/stream_executor/cuda/cuda_blas.cc:1452] Unable to register cuBLAS factory: Attempting to register factory for plugin cuBLAS when one has already been registered\n",
      "2025-07-30 17:14:59.461826: I tensorflow/core/platform/cpu_feature_guard.cc:210] This TensorFlow binary is optimized to use available CPU instructions in performance-critical operations.\n",
      "To enable the following instructions: AVX2 FMA, in other operations, rebuild TensorFlow with the appropriate compiler flags.\n",
      "2025-07-30 17:15:01.018127: W tensorflow/compiler/tf2tensorrt/utils/py_utils.cc:38] TF-TRT Warning: Could not find TensorRT\n"
     ]
    }
   ],
   "source": [
    "import sys\n",
    "\n",
    "import numpy as np\n",
    "import keras\n",
    "\n",
    "sys.path.insert(0, \"../code\")\n",
    "import abcsn_training\n",
    "import abcsn_config"
   ]
  },
  {
   "cell_type": "markdown",
   "id": "c039e02d-7add-4968-baf5-6801ed5d1b50",
   "metadata": {},
   "source": [
    "# Classifying Supernova Spectra With ABC-SN"
   ]
  },
  {
   "cell_type": "markdown",
   "id": "04e8522f-b74d-46b2-90c4-12d179141cd0",
   "metadata": {},
   "source": [
    "# 1. Load ABC-SN\n",
    "\n",
    "The file `ABCSN.keras` is not hosted on GitHub because it is too large of a file. You must download it from Zenodo [here](https://zenodo.org/records/16620817). Place it in `abcsn/` and ensure that it is called `ABCSN.keras`. `ABCSN.keras` has been added to `.gitignore`."
   ]
  },
  {
   "cell_type": "code",
   "execution_count": 2,
   "id": "ca4a2672-afe4-4bef-817f-0c75cc52e628",
   "metadata": {},
   "outputs": [],
   "source": [
    "abcsn = keras.models.load_model(\"../abcsn/ABCSN.keras\")"
   ]
  },
  {
   "cell_type": "markdown",
   "id": "df3eb030-627b-4cff-bc3a-cb7a0e377ae2",
   "metadata": {},
   "source": [
    "# 2. Data\n",
    "\n",
    "Using the function `load_data`, the training and test sets we used are automatically loaded. However, if you are wanting to use ABC-SN to classify new supernovae, you won't be using this function. Instead, all you need is an array of spectra with the correct shape.\n",
    "\n",
    "Your array of spectra to classify, we'll call it `X`, should be a NumPy array with shape `(num_spectra, 1, num_wvl)` where `num_spectra` is the number of spectra and `num_wvl` is the size of each spectrum.\n",
    "\n",
    "1. Each spectrum should be defined from 2500 to 10000 angstroms\n",
    "2. Each spectrum should be normalized to mean zero and standard deviation one.\n",
    "3. Each spectrum should be at a spectral resolution of R = 100. See `degrade_spectrum` in `data_degrading.py` if your spectrum is at a higher spectral resolution.\n",
    "\n",
    "ABC-SN was originally developed for a dataset of 17 classes. During development, we reduced this to just 10. The dictionaries `sn_dict_trn` and `sn_dict_tst` (they are identical) serve to help translate the class ID from 0-16 to 0-9. We can invert this dictionary to translate class IDs in the range 0-9 to the range 0-16 (see `sn_10_to_17`). ABC-SN will predict targets in a range of 0-9 which we can translate to the range of 0-16. We do this because we already have dictionaries defined that take a class ID in the range of 0-16 and translates it into the SN subtype name."
   ]
  },
  {
   "cell_type": "code",
   "execution_count": 3,
   "id": "5d1a17c6-b484-4da1-941c-a018a67ff813",
   "metadata": {},
   "outputs": [],
   "source": [
    "Xtrn, Xtst, Ytrn, Ytst, num_wvl, num_classes, sn_dict_trn, sn_dict_tst, wvl = abcsn_training.load_data()"
   ]
  },
  {
   "cell_type": "code",
   "execution_count": 4,
   "id": "51d1b580-c763-479c-bb31-e28910e32b03",
   "metadata": {},
   "outputs": [
    {
     "data": {
      "text/plain": [
       "{0: 0, 1: 1, 2: 2, 3: 4, 4: 6, 5: 7, 6: 8, 7: 10, 8: 11, 9: 13}"
      ]
     },
     "execution_count": 4,
     "metadata": {},
     "output_type": "execute_result"
    }
   ],
   "source": [
    "sn_10_to_17 = {j: i for i, j in sn_dict_trn.items()}\n",
    "sn_10_to_17"
   ]
  },
  {
   "cell_type": "code",
   "execution_count": 5,
   "id": "515aab67-d75a-45d3-8345-def3dfda51f3",
   "metadata": {},
   "outputs": [
    {
     "data": {
      "text/plain": [
       "([0, 1, 2, 4, 6, 7, 8, 10, 11, 13],\n",
       " ['Ia-norm',\n",
       "  'Ia-91T',\n",
       "  'Ia-91bg',\n",
       "  'Iax',\n",
       "  'Ib-norm',\n",
       "  'Ibn',\n",
       "  'IIb',\n",
       "  'Ic-norm',\n",
       "  'Ic-broad',\n",
       "  'IIP'])"
      ]
     },
     "execution_count": 5,
     "metadata": {},
     "output_type": "execute_result"
    }
   ],
   "source": [
    "classes_str = [abcsn_config.SN_Stypes_str[i] for i, j in sn_dict_trn.items()]\n",
    "classes_ind = [i for i, j in sn_dict_trn.items()]\n",
    "classes_ind, classes_str"
   ]
  },
  {
   "cell_type": "markdown",
   "id": "5fdcdd56-3d72-4d6c-be2f-584d7b2369a1",
   "metadata": {},
   "source": [
    "# 3. Predict\n",
    "\n",
    "1. `X` is your array of spectra to classify.\n",
    "2. `P` is your array of output probabilities of each of the 10 classes.\n",
    "3. `P_argmax` is your array of final predictions for each spectra in `X`. Class IDs defined from 0-10.\n",
    "4. `P_IDs` is your array of final predictions for each spectra in `X`. Class IDs defined from 0-16.\n",
    "5. `P_str` is the final SN subtype prediction for each spectra in `X`."
   ]
  },
  {
   "cell_type": "code",
   "execution_count": 6,
   "id": "b64da29d-be77-40a9-bdae-0c73c6c7a78d",
   "metadata": {},
   "outputs": [
    {
     "name": "stderr",
     "output_type": "stream",
     "text": [
      "WARNING: All log messages before absl::InitializeLog() is called are written to STDERR\n",
      "I0000 00:00:1753910106.435002   35617 service.cc:146] XLA service 0x2b43d403ca40 initialized for platform Host (this does not guarantee that XLA will be used). Devices:\n",
      "I0000 00:00:1753910106.435079   35617 service.cc:154]   StreamExecutor device (0): Host, Default Version\n",
      "2025-07-30 17:15:06.481664: I tensorflow/compiler/mlir/tensorflow/utils/dump_mlir_util.cc:268] disabling MLIR crash reproducer, set env var `MLIR_CRASH_REPRODUCER_DIRECTORY` to enable.\n",
      "I0000 00:00:1753910107.604683   35617 device_compiler.h:188] Compiled cluster using XLA!  This line is logged at most once for the lifetime of the process.\n"
     ]
    }
   ],
   "source": [
    "X = Xtst.copy()\n",
    "P = abcsn.predict(X, verbose=0)\n",
    "P_argmax = np.argmax(P, axis=1)"
   ]
  },
  {
   "cell_type": "code",
   "execution_count": 7,
   "id": "8df9f011-c60f-4f33-9da9-e91d102de9a3",
   "metadata": {
    "scrolled": true
   },
   "outputs": [],
   "source": [
    "P_IDs = [sn_10_to_17[prediction] for prediction in P_argmax]\n",
    "P_str = [abcsn_config.SN_Stypes_int_to_str[prediction_id] for prediction_id in P_IDs]"
   ]
  },
  {
   "cell_type": "code",
   "execution_count": null,
   "id": "f014d656-4a80-482b-a832-84c84ee490e4",
   "metadata": {},
   "outputs": [],
   "source": []
  }
 ],
 "metadata": {
  "kernelspec": {
   "display_name": "Python 3 (ipykernel)",
   "language": "python",
   "name": "python3"
  },
  "language_info": {
   "codemirror_mode": {
    "name": "ipython",
    "version": 3
   },
   "file_extension": ".py",
   "mimetype": "text/x-python",
   "name": "python",
   "nbconvert_exporter": "python",
   "pygments_lexer": "ipython3",
   "version": "3.9.19"
  }
 },
 "nbformat": 4,
 "nbformat_minor": 5
}
