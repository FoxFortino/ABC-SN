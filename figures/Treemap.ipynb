{
 "cells": [
  {
   "cell_type": "code",
   "execution_count": 5,
   "id": "d579ebc6-c607-4987-8d74-efc23ebf93fd",
   "metadata": {},
   "outputs": [],
   "source": [
    "import os\n",
    "\n",
    "import numpy as np\n",
    "import pandas as pd\n",
    "from matplotlib import pyplot as plt\n",
    "\n",
    "figdir = \"./\""
   ]
  },
  {
   "cell_type": "code",
   "execution_count": 6,
   "id": "ca18369d-354f-4a7c-aa2a-0987cf0400bf",
   "metadata": {},
   "outputs": [],
   "source": [
    "# !pip install squarify\n",
    "# import squarify"
   ]
  },
  {
   "cell_type": "code",
   "execution_count": 7,
   "id": "046bea38-f01b-4d3e-a080-6a25baf7e25c",
   "metadata": {},
   "outputs": [
    {
     "data": {
      "text/plain": [
       "array(['Ia-norm', 'Ia-91T', 'Ia-91bg', 'Iax', 'Ib-norm', 'Ibn', 'IIb',\n",
       "       'Ic-norm', 'Ic-broad', 'IIP'], dtype='<U8')"
      ]
     },
     "execution_count": 7,
     "metadata": {},
     "output_type": "execute_result"
    }
   ],
   "source": [
    "subtypes_subset = np.array([\n",
    "    \"Ia-norm\", \"Ia-91T\", \"Ia-91bg\", \"Iax\", #\"Ia-csm\", \"Ia-pec\",\n",
    "    \"Ib-norm\", \"Ibn\", \"IIb\", #\"Ib-pec\",\n",
    "    \"Ic-norm\", \"Ic-broad\", #\"Ic-pec\",\n",
    "    \"IIP\", #\"IIL\", \"IIn\", \"II-pec\",\n",
    "])\n",
    "subtypes_subset"
   ]
  },
  {
   "cell_type": "code",
   "execution_count": 8,
   "id": "4de4274c-afe1-41c1-ab7e-7ad634162933",
   "metadata": {},
   "outputs": [],
   "source": [
    "df = pd.read_parquet(\"../data/original_resolution_parquet/df_preprocessed.parquet\")\n",
    "\n",
    "counts = np.array([0 for subtype in subtypes_subset])\n",
    "for i, subtype in enumerate(subtypes_subset):\n",
    "    ind = (df[\"SN Subtype\"] == subtype)\n",
    "    num_spec = df[ind].shape[0]\n",
    "    counts[i] = num_spec"
   ]
  },
  {
   "cell_type": "code",
   "execution_count": 9,
   "id": "78152975-9147-4886-8896-2bbd7c84fc40",
   "metadata": {},
   "outputs": [
    {
     "data": {
      "text/plain": [
       "(4013, 1029)"
      ]
     },
     "execution_count": 9,
     "metadata": {},
     "output_type": "execute_result"
    }
   ],
   "source": [
    "df.shape"
   ]
  },
  {
   "cell_type": "code",
   "execution_count": 57,
   "id": "a360ea78-6994-4944-ba7f-f3a6583c6e60",
   "metadata": {},
   "outputs": [
    {
     "data": {
      "text/plain": [
       "({'Ia-norm': 319,\n",
       "  'Ia-91T': 36,\n",
       "  'Ia-csm': 0,\n",
       "  'Ia-91bg': 42,\n",
       "  'Ib-norm': 22,\n",
       "  'Ia-pec': 0,\n",
       "  'Ic-norm': 21,\n",
       "  'IIP': 6,\n",
       "  'Iax': 6,\n",
       "  'IIL': 0,\n",
       "  'IIb': 19,\n",
       "  'II-pec': 0,\n",
       "  'Ic-broad': 24,\n",
       "  'Ic-pec': 0,\n",
       "  'IIn': 0,\n",
       "  'Ibn': 3,\n",
       "  'Ib-pec': 0},\n",
       " 498)"
      ]
     },
     "execution_count": 57,
     "metadata": {},
     "output_type": "execute_result"
    }
   ],
   "source": [
    "sntype_SNe = {sntype: 0 for sntype in df[\"SN Subtype\"].unique()}\n",
    "\n",
    "nSNe = 0\n",
    "for SN in df.index.unique():\n",
    "    # print(SN)\n",
    "    \n",
    "    df_SN = df.loc[SN]\n",
    "    if df_SN.ndim == 1:\n",
    "        sntype = df_SN[\"SN Subtype\"]\n",
    "    else:\n",
    "        sntype = df_SN[\"SN Subtype\"].unique()\n",
    "        assert len(sntype) == 1\n",
    "        sntype = sntype[0]\n",
    "\n",
    "    if sntype in subtypes_subset:\n",
    "        sntype_SNe[sntype] += 1\n",
    "        nSNe += 1\n",
    "\n",
    "\n",
    "sntype_SNe, nSNe"
   ]
  },
  {
   "cell_type": "code",
   "execution_count": 51,
   "id": "89d1833f-3a73-46ff-b523-4f0a4268da4a",
   "metadata": {},
   "outputs": [
    {
     "data": {
      "text/plain": [
       "'Ia-norm'"
      ]
     },
     "execution_count": 51,
     "metadata": {},
     "output_type": "execute_result"
    }
   ],
   "source": [
    "df.loc[\"sn03ai\"][\"SN Subtype\"]"
   ]
  },
  {
   "cell_type": "code",
   "execution_count": 27,
   "id": "a6ef3b64-2723-4be8-b60a-6adca9834add",
   "metadata": {},
   "outputs": [
    {
     "data": {
      "text/plain": [
       "['Ia-norm']\n",
       "Categories (17, object): ['II-pec', 'IIL', 'IIP', 'IIb', ..., 'Ibn', 'Ic-broad', 'Ic-norm', 'Ic-pec']"
      ]
     },
     "execution_count": 27,
     "metadata": {},
     "output_type": "execute_result"
    }
   ],
   "source": []
  },
  {
   "cell_type": "code",
   "execution_count": 6,
   "id": "8fe7531f-0417-42a0-bba8-f87975cfa053",
   "metadata": {},
   "outputs": [
    {
     "data": {
      "text/plain": [
       "array([2114,  348,  232,   62,  211,   27,  232,  206,  228,  104])"
      ]
     },
     "execution_count": 6,
     "metadata": {},
     "output_type": "execute_result"
    }
   ],
   "source": [
    "counts"
   ]
  },
  {
   "cell_type": "code",
   "execution_count": 6,
   "id": "3e40d70f-fbe0-49d4-bcc6-3d70e2a9e189",
   "metadata": {},
   "outputs": [
    {
     "data": {
      "text/plain": [
       "array(['Ia-norm', 'Ia-91T', 'Ia-91bg', 'Iax', 'Ib-norm', 'Ibn', 'IIb',\n",
       "       'Ic-norm', 'Ic-broad', 'IIP'], dtype='<U8')"
      ]
     },
     "execution_count": 6,
     "metadata": {},
     "output_type": "execute_result"
    }
   ],
   "source": [
    "subtypes_subset"
   ]
  },
  {
   "cell_type": "code",
   "execution_count": 7,
   "id": "2849945e-02fc-4af1-95e7-731cc030b1f0",
   "metadata": {},
   "outputs": [
    {
     "data": {
      "text/plain": [
       "array([0.56163656, 0.09245484, 0.06163656, 0.01647184, 0.05605739,\n",
       "       0.00717322, 0.06163656, 0.05472901, 0.06057386, 0.02763018])"
      ]
     },
     "execution_count": 7,
     "metadata": {},
     "output_type": "execute_result"
    }
   ],
   "source": [
    "rates = counts / counts.sum()\n",
    "rates"
   ]
  },
  {
   "cell_type": "code",
   "execution_count": 8,
   "id": "832adabd-ec7f-4f1d-8f29-cc3faebc9c97",
   "metadata": {},
   "outputs": [],
   "source": [
    "colors = [\n",
    "    \"tab:blue\",\n",
    "    \"tab:blue\",\n",
    "    \"tab:blue\",\n",
    "    \"tab:blue\",\n",
    "\n",
    "    \"tab:orange\",\n",
    "    \"tab:orange\",\n",
    "    \"tab:orange\",\n",
    "\n",
    "    \"tab:green\",\n",
    "    \"tab:green\",\n",
    "\n",
    "    \"tab:red\",\n",
    "]"
   ]
  },
  {
   "cell_type": "code",
   "execution_count": 9,
   "id": "4052984c-0cac-450c-b87f-590336e7089a",
   "metadata": {},
   "outputs": [
    {
     "data": {
      "text/plain": [
       "array(['Ia-norm', 'Ia-91T', 'Ia-91bg', 'Iax', 'Ib-norm', '', 'IIb',\n",
       "       'Ic-norm', 'Ic-broad', 'IIP'], dtype='<U8')"
      ]
     },
     "execution_count": 9,
     "metadata": {},
     "output_type": "execute_result"
    }
   ],
   "source": [
    "subtypes_subset = np.array([\n",
    "    \"Ia-norm\", \"Ia-91T\", \"Ia-91bg\", \"Iax\", #\"Ia-csm\", \"Ia-pec\",\n",
    "    \"Ib-norm\", \"\", \"IIb\", #\"Ib-pec\",\n",
    "    \"Ic-norm\", \"Ic-broad\", #\"Ic-pec\",\n",
    "    \"IIP\", #\"IIL\", \"IIn\", \"II-pec\",\n",
    "])\n",
    "subtypes_subset"
   ]
  },
  {
   "cell_type": "code",
   "execution_count": 18,
   "id": "7727e196-e793-4e96-af61-99497d3b814b",
   "metadata": {},
   "outputs": [
    {
     "data": {
      "image/png": "[encoded data removed]",
      "text/plain": [
       "<Figure size 600x600 with 1 Axes>"
      ]
     },
     "metadata": {},
     "output_type": "display_data"
    }
   ],
   "source": [
    "plt.figure(figsize=(6, 6))\n",
    "squarify.plot(\n",
    "    sizes=rates,\n",
    "    value=[f\"{rate*100:.1f}%\" if rate > 0.01 else \"\" for rate in rates ],\n",
    "    label=subtypes_subset,\n",
    "    pad=True,\n",
    "    color=colors,\n",
    "    alpha=0.65,\n",
    "    bar_kwargs={\n",
    "        \"edgecolor\": \"k\",\n",
    "        \"linewidth\": 0.5,\n",
    "    },\n",
    "    text_kwargs={\n",
    "        \"fontsize\": 11,\n",
    "        \"fontfamily\": \"serif\",\n",
    "        # \"weight\": \"bold\",\n",
    "    }\n",
    ").set()\n",
    "\n",
    "plt.annotate(\n",
    "    text=f\"Ibn\\n{rates[5]*100:.1f}%\",\n",
    "    xy=(0.575, 0.55),\n",
    "    xytext=(0.99, 0.4),\n",
    "    xycoords=\"axes fraction\",\n",
    "    arrowprops={\"arrowstyle\": \"<-\", \"alpha\": 0.8},\n",
    "    fontfamily=\"serif\",\n",
    "    fontsize=11,\n",
    ")\n",
    "\n",
    "plt.axis('equal')\n",
    "plt.axis(\"off\")\n",
    "plt.tight_layout()\n",
    "# plt.savefig(os.path.join(figdir, \"treemap.pdf\"))\n",
    "# plt.savefig(os.path.join(figdir, \"treemap.png\"))\n",
    "plt.show()"
   ]
  },
  {
   "cell_type": "code",
   "execution_count": null,
   "id": "fa36d1b4-79d3-4c02-96b4-7b94c0530614",
   "metadata": {},
   "outputs": [],
   "source": []
  }
 ],
 "metadata": {
  "kernelspec": {
   "display_name": "Python 3 (ipykernel)",
   "language": "python",
   "name": "python3"
  },
  "language_info": {
   "codemirror_mode": {
    "name": "ipython",
    "version": 3
   },
   "file_extension": ".py",
   "mimetype": "text/x-python",
   "name": "python",
   "nbconvert_exporter": "python",
   "pygments_lexer": "ipython3",
   "version": "3.9.19"
  }
 },
 "nbformat": 4,
 "nbformat_minor": 5
}
