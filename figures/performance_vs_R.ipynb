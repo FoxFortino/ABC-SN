{
 "cells": [
  {
   "cell_type": "markdown",
   "id": "889c7a67-9185-4f66-b6b1-51b570b30f5d",
   "metadata": {},
   "source": [
    "# This notebook requires DASH Code to run.\n",
    "\n",
    "It requires `multilayer_convnet.py`: https://github.com/daniel-muthukrishna/astrodash/blob/master/astrodash/multilayer_convnet.py\n",
    "\n",
    "Additionally, this notebook requires the retrained DASH models, trained ono different spectral resoltuions, which we do not provide."
   ]
  },
  {
   "cell_type": "code",
   "execution_count": 1,
   "id": "4e0146af-2de5-4998-bc28-4f4b7d5d56d2",
   "metadata": {},
   "outputs": [
    {
     "name": "stderr",
     "output_type": "stream",
     "text": [
      "2025-07-23 00:04:56.422549: E external/local_xla/xla/stream_executor/cuda/cuda_fft.cc:485] Unable to register cuFFT factory: Attempting to register factory for plugin cuFFT when one has already been registered\n",
      "2025-07-23 00:04:56.440732: E external/local_xla/xla/stream_executor/cuda/cuda_dnn.cc:8454] Unable to register cuDNN factory: Attempting to register factory for plugin cuDNN when one has already been registered\n",
      "2025-07-23 00:04:56.446297: E external/local_xla/xla/stream_executor/cuda/cuda_blas.cc:1452] Unable to register cuBLAS factory: Attempting to register factory for plugin cuBLAS when one has already been registered\n",
      "2025-07-23 00:04:56.461313: I tensorflow/core/platform/cpu_feature_guard.cc:210] This TensorFlow binary is optimized to use available CPU instructions in performance-critical operations.\n",
      "To enable the following instructions: AVX2 FMA, in other operations, rebuild TensorFlow with the appropriate compiler flags.\n",
      "2025-07-23 00:04:58.276804: W tensorflow/compiler/tf2tensorrt/utils/py_utils.cc:38] TF-TRT Warning: Could not find TensorRT\n"
     ]
    },
    {
     "name": "stdout",
     "output_type": "stream",
     "text": [
      "WARNING:tensorflow:From /lustre/lrspec/users/2649/miniconda3/envs/fox/lib/python3.9/site-packages/tensorflow/python/compat/v2_compat.py:98: disable_resource_variables (from tensorflow.python.ops.resource_variables_toggle) is deprecated and will be removed in a future version.\n",
      "Instructions for updating:\n",
      "non-resource variables are not supported in the long term\n"
     ]
    }
   ],
   "source": [
    "import sys\n",
    "import os\n",
    "import glob\n",
    "\n",
    "import numpy as np\n",
    "import pandas as pd\n",
    "import sklearn\n",
    "from matplotlib import pyplot as plt\n",
    "\n",
    "sys.path.insert(0, \"../code\")\n",
    "import abcsn_config\n",
    "\n",
    "try:\n",
    "    import tensorflow.compat.v1 as tf\n",
    "    tf.disable_v2_behavior()\n",
    "except ModuleNotFoundError:\n",
    "    import tensorflow as tf\n",
    "\n",
    "from multilayer_convnet import convnet_variables\n",
    "\n",
    "from icecream import ic\n",
    "\n",
    "figdir = \"./\""
   ]
  },
  {
   "cell_type": "code",
   "execution_count": 2,
   "id": "f20de8cd-2ffa-4b2e-b959-5e03806ec913",
   "metadata": {},
   "outputs": [],
   "source": [
    "MODELS_PATH = \"/lustre/lrspec/users/2649/DASH_vs_R/models\"\n",
    "R = 738\n",
    "\n",
    "R_dir = os.path.join(MODELS_PATH, str(R))\n",
    "BACKUP_DIR = os.path.join(R_dir, \"backup\")\n",
    "training_set_dir = os.path.join(R_dir,  \"training_set\")\n",
    "history = pd.read_csv(os.path.join(R_dir, \"history.csv\"))\n",
    "MODEL_DIR = BACKUP_DIR\n",
    "\n",
    "trainLabels = np.load(\n",
    "    os.path.join(training_set_dir, \"trainLabels.npy\"),\n",
    "    mmap_mode=\"r\")\n",
    "testLabels = np.load(\n",
    "    os.path.join(training_set_dir, \"testLabels.npy\"),\n",
    "    mmap_mode=\"r\")\n",
    "\n",
    "classes_per_subtype = 18\n",
    "num_classes = 306\n",
    "SubTypeIndices = np.arange(0, num_classes + 1, classes_per_subtype)\n",
    "SubTypeIndices, SubTypeIndices.shape\n",
    "\n",
    "Ytrn = np.digitize(trainLabels, SubTypeIndices) - 1\n",
    "Ytst = np.digitize(testLabels, SubTypeIndices) - 1\n",
    "\n",
    "used_subtypes_trn_int = np.unique(Ytrn)\n",
    "used_subtypes_tst_int = np.unique(Ytst)\n",
    "\n",
    "used_subtypes_trn_str = [scs_config.SN_Stypes_int_to_str[SNtype] for SNtype in used_subtypes_trn_int]\n",
    "used_subtypes_tst_str = [scs_config.SN_Stypes_int_to_str[SNtype] for SNtype in used_subtypes_tst_int]"
   ]
  },
  {
   "cell_type": "code",
   "execution_count": 3,
   "id": "c23d4a26-d3dc-4bf5-b573-9ac1d2cf6df5",
   "metadata": {},
   "outputs": [],
   "source": [
    "def get_DASH_results(R, MODELS_PATH):\n",
    "    R_dir = os.path.join(MODELS_PATH, str(R))\n",
    "    BACKUP_DIR = os.path.join(R_dir, \"backup\")\n",
    "    training_set_dir = os.path.join(R_dir,  \"training_set\")\n",
    "    history = pd.read_csv(os.path.join(R_dir, \"history.csv\"))\n",
    "    MODEL_DIR = BACKUP_DIR\n",
    "\n",
    "    trainImages = np.load(\n",
    "        os.path.join(training_set_dir, \"trainImages.npy\"),\n",
    "        mmap_mode=\"r\")\n",
    "    trainLabels = np.load(\n",
    "        os.path.join(training_set_dir, \"trainLabels.npy\"),\n",
    "        mmap_mode=\"r\")\n",
    "    trainTypeNames = np.load(\n",
    "        os.path.join(training_set_dir, \"trainTypeNames.npy\"),\n",
    "        mmap_mode=\"r\")\n",
    "\n",
    "    testImages = np.load(\n",
    "        os.path.join(training_set_dir, \"testImages.npy\"),\n",
    "        mmap_mode=\"r\")\n",
    "    testLabels = np.load(\n",
    "        os.path.join(training_set_dir, \"testLabels.npy\"),\n",
    "        mmap_mode=\"r\")\n",
    "    testTypeNames = np.load(\n",
    "        os.path.join(training_set_dir, \"testTypeNames.npy\"),\n",
    "        mmap_mode=\"r\")\n",
    "\n",
    "    typeNamesList = np.load(\n",
    "        os.path.join(training_set_dir, \"typeNamesList.npy\"),\n",
    "        mmap_mode=\"r\")\n",
    "\n",
    "    classes_per_subtype = 18\n",
    "    num_classes = 306\n",
    "    SubTypeIndices = np.arange(0, num_classes + 1, classes_per_subtype)\n",
    "    SubTypeIndices, SubTypeIndices.shape\n",
    "\n",
    "    Ytrn = np.digitize(trainLabels, SubTypeIndices) - 1\n",
    "    Ytst = np.digitize(testLabels, SubTypeIndices) - 1\n",
    "\n",
    "    used_subtypes_trn_int = np.unique(Ytrn)\n",
    "    used_subtypes_tst_int = np.unique(Ytst)\n",
    "\n",
    "    used_subtypes_trn_str = [scs_config.SN_Stypes_int_to_str[SNtype] for SNtype in used_subtypes_trn_int]\n",
    "    used_subtypes_tst_str = [scs_config.SN_Stypes_int_to_str[SNtype] for SNtype in used_subtypes_tst_int]\n",
    "\n",
    "    tf.reset_default_graph()\n",
    "    nw = len(testImages[0])\n",
    "    nBins = len(typeNamesList)\n",
    "    imWidthReduc = 8\n",
    "    imWidth = 32  # Image size and width\n",
    "    x, y_, keep_prob, y_conv, W, b = convnet_variables(imWidth, imWidthReduc, nw, nBins)\n",
    "\n",
    "    saver = tf.train.Saver()\n",
    "    with tf.Session() as sess:\n",
    "        index_files = glob.glob(os.path.join(MODEL_DIR, \"*.index\"))\n",
    "        latest_ckpt = max(index_files, key=os.path.getctime)\n",
    "        saver = tf.train.Saver()\n",
    "        saver.restore(sess, latest_ckpt.split(\".index\")[0])\n",
    "\n",
    "        Ptst_typeage_onehot = y_conv.eval(feed_dict={x: testImages, keep_prob: 1.0})\n",
    "        Ptrn_typeage_onehot = y_conv.eval(feed_dict={x: trainImages, keep_prob: 1.0})\n",
    "\n",
    "    Ptst_typeage = np.argmax(Ptst_typeage_onehot, axis=1)\n",
    "    Ptrn_typeage = np.argmax(Ptrn_typeage_onehot, axis=1)\n",
    "\n",
    "    Ptst = np.digitize(Ptst_typeage, SubTypeIndices) - 1\n",
    "    Ptrn = np.digitize(Ptrn_typeage, SubTypeIndices) - 1\n",
    "\n",
    "    performance_tst = calc_metrics(Ytst, Ptst, used_subtypes_tst_int)\n",
    "    performance_trn = calc_metrics(Ytrn, Ptrn, used_subtypes_trn_int)\n",
    "\n",
    "    performance_per_class_tst = calc_metrics_per_class(Ytst, Ptst, used_subtypes_tst_int)\n",
    "    performance_per_class_trn = calc_metrics_per_class(Ytrn, Ptrn, used_subtypes_trn_int)\n",
    "\n",
    "    return performance_tst, performance_per_class_tst\n",
    "\n",
    "\n",
    "def calc_metrics_per_class(Y, P, labels):\n",
    "    cm = sklearn.metrics.confusion_matrix(Y, P, labels=labels)\n",
    "\n",
    "    FP = cm.sum(axis=0) - np.diag(cm)\n",
    "    FN = cm.sum(axis=1) - np.diag(cm)\n",
    "    TP = np.diag(cm)\n",
    "    TN = cm.sum() - (FP + FN + TP)\n",
    "\n",
    "    # Sensitivity, hit rate, recall, or true positive rate\n",
    "    TPR = TP/(TP+FN)\n",
    "    # Specificity or true negative rate\n",
    "    TNR = TN/(TN+FP)\n",
    "    # Precision or positive predictive value\n",
    "    PPV = TP/(TP+FP)\n",
    "    # Negative predictive value\n",
    "    NPV = TN/(TN+FN)\n",
    "    # Fall out or false positive rate\n",
    "    FPR = FP/(FP+TN)\n",
    "    # False negative rate\n",
    "    FNR = FN/(TP+FN)\n",
    "    # False discovery rate\n",
    "    FDR = FP/(TP+FP)\n",
    "    # Overall accuracy\n",
    "    ACC = (TP+TN)/(TP+FP+FN+TN)\n",
    "\n",
    "    return FP, FN, TP, TN, TPR, TNR, PPV, NPV, FPR, FNR, FDR, ACC\n",
    "\n",
    "\n",
    "def calc_metrics(Y, P, labels):\n",
    "    acc = sklearn.metrics.accuracy_score(Y, P)\n",
    "    f1_macro = sklearn.metrics.f1_score(Y, P, labels=labels, average=\"macro\")\n",
    "    f1_weighted = sklearn.metrics.f1_score(Y, P, labels=labels, average=\"weighted\")\n",
    "\n",
    "    precision_macro = sklearn.metrics.precision_score(Y, P, labels=labels, average=\"macro\")\n",
    "    precision_weighted = sklearn.metrics.precision_score(Y, P, labels=labels, average=\"weighted\")\n",
    "\n",
    "    recall_macro = sklearn.metrics.recall_score(Y, P, labels=labels, average=\"macro\")\n",
    "    recall_weighted = sklearn.metrics.recall_score(Y, P, labels=labels, average=\"weighted\")\n",
    "\n",
    "    return acc, f1_macro, f1_weighted, precision_macro, precision_weighted, recall_macro, recall_weighted"
   ]
  },
  {
   "cell_type": "code",
   "execution_count": 4,
   "id": "e0580b7b-adc6-48c0-82f0-d994104a1226",
   "metadata": {},
   "outputs": [],
   "source": [
    "R_arr = [\n",
    "    6,8,10,12,14,16,18,20,22,24,26,28,30,\n",
    "    32,34,36,38,40,42,44,46,48,50,55,60,\n",
    "    65,70,75,80,85,90,95,100,150,200,300,\n",
    "    400,500,600,700,738,\n",
    "]\n",
    "MODELS_PATH = \"/lustre/lrspec/users/2649/DASH_vs_R/models\""
   ]
  },
  {
   "cell_type": "code",
   "execution_count": 5,
   "id": "2ca7fd2a-6257-417f-b9d7-c90580083c1f",
   "metadata": {},
   "outputs": [
    {
     "data": {
      "text/plain": [
       "41"
      ]
     },
     "execution_count": 5,
     "metadata": {},
     "output_type": "execute_result"
    }
   ],
   "source": [
    "len(R_arr)"
   ]
  },
  {
   "cell_type": "code",
   "execution_count": 6,
   "id": "229d12f5-1cc3-40a0-9c97-e18b93855d7d",
   "metadata": {
    "scrolled": true
   },
   "outputs": [
    {
     "name": "stdout",
     "output_type": "stream",
     "text": [
      "WARNING:tensorflow:From /lustre/lrspec/users/2649/miniconda3/envs/fox/lib/python3.9/site-packages/tensorflow/python/util/dispatch.py:1260: calling dropout (from tensorflow.python.ops.nn_ops) with keep_prob is deprecated and will be removed in a future version.\n",
      "Instructions for updating:\n",
      "Please use `rate` instead of `keep_prob`. Rate should be set to `rate = 1 - keep_prob`.\n",
      "INFO:tensorflow:Restoring parameters from /lustre/lrspec/users/2649/DASH_vs_R/models/6/backup/model-400\n"
     ]
    },
    {
     "name": "stderr",
     "output_type": "stream",
     "text": [
      "2025-07-23 00:05:01.142789: I tensorflow/compiler/mlir/mlir_graph_optimization_pass.cc:388] MLIR V1 optimization pass is not enabled\n"
     ]
    },
    {
     "name": "stdout",
     "output_type": "stream",
     "text": [
      "INFO:tensorflow:Restoring parameters from /lustre/lrspec/users/2649/DASH_vs_R/models/8/backup/model-550\n",
      "INFO:tensorflow:Restoring parameters from /lustre/lrspec/users/2649/DASH_vs_R/models/10/backup/model-450\n",
      "INFO:tensorflow:Restoring parameters from /lustre/lrspec/users/2649/DASH_vs_R/models/12/backup/model-500\n",
      "INFO:tensorflow:Restoring parameters from /lustre/lrspec/users/2649/DASH_vs_R/models/14/backup/model-500\n",
      "INFO:tensorflow:Restoring parameters from /lustre/lrspec/users/2649/DASH_vs_R/models/16/backup/model-450\n",
      "INFO:tensorflow:Restoring parameters from /lustre/lrspec/users/2649/DASH_vs_R/models/18/backup/model-450\n"
     ]
    },
    {
     "name": "stderr",
     "output_type": "stream",
     "text": [
      "/lustre/lrspec/users/2649/miniconda3/envs/fox/lib/python3.9/site-packages/sklearn/metrics/_classification.py:1531: UndefinedMetricWarning: Precision is ill-defined and being set to 0.0 in labels with no predicted samples. Use `zero_division` parameter to control this behavior.\n",
      "  _warn_prf(average, modifier, f\"{metric.capitalize()} is\", len(result))\n",
      "/lustre/lrspec/users/2649/miniconda3/envs/fox/lib/python3.9/site-packages/sklearn/metrics/_classification.py:1531: UndefinedMetricWarning: Precision is ill-defined and being set to 0.0 in labels with no predicted samples. Use `zero_division` parameter to control this behavior.\n",
      "  _warn_prf(average, modifier, f\"{metric.capitalize()} is\", len(result))\n",
      "/tmp/ipykernel_38151/1387699197.py:91: RuntimeWarning: invalid value encountered in divide\n",
      "  PPV = TP/(TP+FP)\n",
      "/tmp/ipykernel_38151/1387699197.py:99: RuntimeWarning: invalid value encountered in divide\n",
      "  FDR = FP/(TP+FP)\n"
     ]
    },
    {
     "name": "stdout",
     "output_type": "stream",
     "text": [
      "INFO:tensorflow:Restoring parameters from /lustre/lrspec/users/2649/DASH_vs_R/models/20/backup/model-450\n",
      "INFO:tensorflow:Restoring parameters from /lustre/lrspec/users/2649/DASH_vs_R/models/22/backup/model-550\n"
     ]
    },
    {
     "name": "stderr",
     "output_type": "stream",
     "text": [
      "/lustre/lrspec/users/2649/miniconda3/envs/fox/lib/python3.9/site-packages/sklearn/metrics/_classification.py:1531: UndefinedMetricWarning: Precision is ill-defined and being set to 0.0 in labels with no predicted samples. Use `zero_division` parameter to control this behavior.\n",
      "  _warn_prf(average, modifier, f\"{metric.capitalize()} is\", len(result))\n",
      "/lustre/lrspec/users/2649/miniconda3/envs/fox/lib/python3.9/site-packages/sklearn/metrics/_classification.py:1531: UndefinedMetricWarning: Precision is ill-defined and being set to 0.0 in labels with no predicted samples. Use `zero_division` parameter to control this behavior.\n",
      "  _warn_prf(average, modifier, f\"{metric.capitalize()} is\", len(result))\n",
      "/tmp/ipykernel_38151/1387699197.py:91: RuntimeWarning: invalid value encountered in divide\n",
      "  PPV = TP/(TP+FP)\n",
      "/tmp/ipykernel_38151/1387699197.py:99: RuntimeWarning: invalid value encountered in divide\n",
      "  FDR = FP/(TP+FP)\n"
     ]
    },
    {
     "name": "stdout",
     "output_type": "stream",
     "text": [
      "INFO:tensorflow:Restoring parameters from /lustre/lrspec/users/2649/DASH_vs_R/models/24/backup/model-550\n"
     ]
    },
    {
     "name": "stderr",
     "output_type": "stream",
     "text": [
      "/lustre/lrspec/users/2649/miniconda3/envs/fox/lib/python3.9/site-packages/sklearn/metrics/_classification.py:1531: UndefinedMetricWarning: Precision is ill-defined and being set to 0.0 in labels with no predicted samples. Use `zero_division` parameter to control this behavior.\n",
      "  _warn_prf(average, modifier, f\"{metric.capitalize()} is\", len(result))\n",
      "/lustre/lrspec/users/2649/miniconda3/envs/fox/lib/python3.9/site-packages/sklearn/metrics/_classification.py:1531: UndefinedMetricWarning: Precision is ill-defined and being set to 0.0 in labels with no predicted samples. Use `zero_division` parameter to control this behavior.\n",
      "  _warn_prf(average, modifier, f\"{metric.capitalize()} is\", len(result))\n",
      "/tmp/ipykernel_38151/1387699197.py:91: RuntimeWarning: invalid value encountered in divide\n",
      "  PPV = TP/(TP+FP)\n",
      "/tmp/ipykernel_38151/1387699197.py:99: RuntimeWarning: invalid value encountered in divide\n",
      "  FDR = FP/(TP+FP)\n"
     ]
    },
    {
     "name": "stdout",
     "output_type": "stream",
     "text": [
      "INFO:tensorflow:Restoring parameters from /lustre/lrspec/users/2649/DASH_vs_R/models/26/backup/model-500\n"
     ]
    },
    {
     "name": "stderr",
     "output_type": "stream",
     "text": [
      "/lustre/lrspec/users/2649/miniconda3/envs/fox/lib/python3.9/site-packages/sklearn/metrics/_classification.py:1531: UndefinedMetricWarning: Precision is ill-defined and being set to 0.0 in labels with no predicted samples. Use `zero_division` parameter to control this behavior.\n",
      "  _warn_prf(average, modifier, f\"{metric.capitalize()} is\", len(result))\n",
      "/lustre/lrspec/users/2649/miniconda3/envs/fox/lib/python3.9/site-packages/sklearn/metrics/_classification.py:1531: UndefinedMetricWarning: Precision is ill-defined and being set to 0.0 in labels with no predicted samples. Use `zero_division` parameter to control this behavior.\n",
      "  _warn_prf(average, modifier, f\"{metric.capitalize()} is\", len(result))\n",
      "/tmp/ipykernel_38151/1387699197.py:91: RuntimeWarning: invalid value encountered in divide\n",
      "  PPV = TP/(TP+FP)\n",
      "/tmp/ipykernel_38151/1387699197.py:99: RuntimeWarning: invalid value encountered in divide\n",
      "  FDR = FP/(TP+FP)\n"
     ]
    },
    {
     "name": "stdout",
     "output_type": "stream",
     "text": [
      "INFO:tensorflow:Restoring parameters from /lustre/lrspec/users/2649/DASH_vs_R/models/28/backup/model-800\n",
      "INFO:tensorflow:Restoring parameters from /lustre/lrspec/users/2649/DASH_vs_R/models/30/backup/model-600\n"
     ]
    },
    {
     "name": "stderr",
     "output_type": "stream",
     "text": [
      "/lustre/lrspec/users/2649/miniconda3/envs/fox/lib/python3.9/site-packages/sklearn/metrics/_classification.py:1531: UndefinedMetricWarning: Precision is ill-defined and being set to 0.0 in labels with no predicted samples. Use `zero_division` parameter to control this behavior.\n",
      "  _warn_prf(average, modifier, f\"{metric.capitalize()} is\", len(result))\n",
      "/lustre/lrspec/users/2649/miniconda3/envs/fox/lib/python3.9/site-packages/sklearn/metrics/_classification.py:1531: UndefinedMetricWarning: Precision is ill-defined and being set to 0.0 in labels with no predicted samples. Use `zero_division` parameter to control this behavior.\n",
      "  _warn_prf(average, modifier, f\"{metric.capitalize()} is\", len(result))\n",
      "/tmp/ipykernel_38151/1387699197.py:91: RuntimeWarning: invalid value encountered in divide\n",
      "  PPV = TP/(TP+FP)\n",
      "/tmp/ipykernel_38151/1387699197.py:99: RuntimeWarning: invalid value encountered in divide\n",
      "  FDR = FP/(TP+FP)\n"
     ]
    },
    {
     "name": "stdout",
     "output_type": "stream",
     "text": [
      "INFO:tensorflow:Restoring parameters from /lustre/lrspec/users/2649/DASH_vs_R/models/32/backup/model-450\n"
     ]
    },
    {
     "name": "stderr",
     "output_type": "stream",
     "text": [
      "/lustre/lrspec/users/2649/miniconda3/envs/fox/lib/python3.9/site-packages/sklearn/metrics/_classification.py:1531: UndefinedMetricWarning: Precision is ill-defined and being set to 0.0 in labels with no predicted samples. Use `zero_division` parameter to control this behavior.\n",
      "  _warn_prf(average, modifier, f\"{metric.capitalize()} is\", len(result))\n",
      "/lustre/lrspec/users/2649/miniconda3/envs/fox/lib/python3.9/site-packages/sklearn/metrics/_classification.py:1531: UndefinedMetricWarning: Precision is ill-defined and being set to 0.0 in labels with no predicted samples. Use `zero_division` parameter to control this behavior.\n",
      "  _warn_prf(average, modifier, f\"{metric.capitalize()} is\", len(result))\n",
      "/tmp/ipykernel_38151/1387699197.py:91: RuntimeWarning: invalid value encountered in divide\n",
      "  PPV = TP/(TP+FP)\n",
      "/tmp/ipykernel_38151/1387699197.py:99: RuntimeWarning: invalid value encountered in divide\n",
      "  FDR = FP/(TP+FP)\n"
     ]
    },
    {
     "name": "stdout",
     "output_type": "stream",
     "text": [
      "INFO:tensorflow:Restoring parameters from /lustre/lrspec/users/2649/DASH_vs_R/models/34/backup/model-450\n"
     ]
    },
    {
     "name": "stderr",
     "output_type": "stream",
     "text": [
      "/lustre/lrspec/users/2649/miniconda3/envs/fox/lib/python3.9/site-packages/sklearn/metrics/_classification.py:1531: UndefinedMetricWarning: Precision is ill-defined and being set to 0.0 in labels with no predicted samples. Use `zero_division` parameter to control this behavior.\n",
      "  _warn_prf(average, modifier, f\"{metric.capitalize()} is\", len(result))\n",
      "/lustre/lrspec/users/2649/miniconda3/envs/fox/lib/python3.9/site-packages/sklearn/metrics/_classification.py:1531: UndefinedMetricWarning: Precision is ill-defined and being set to 0.0 in labels with no predicted samples. Use `zero_division` parameter to control this behavior.\n",
      "  _warn_prf(average, modifier, f\"{metric.capitalize()} is\", len(result))\n",
      "/tmp/ipykernel_38151/1387699197.py:91: RuntimeWarning: invalid value encountered in divide\n",
      "  PPV = TP/(TP+FP)\n",
      "/tmp/ipykernel_38151/1387699197.py:99: RuntimeWarning: invalid value encountered in divide\n",
      "  FDR = FP/(TP+FP)\n"
     ]
    },
    {
     "name": "stdout",
     "output_type": "stream",
     "text": [
      "INFO:tensorflow:Restoring parameters from /lustre/lrspec/users/2649/DASH_vs_R/models/36/backup/model-550\n"
     ]
    },
    {
     "name": "stderr",
     "output_type": "stream",
     "text": [
      "/lustre/lrspec/users/2649/miniconda3/envs/fox/lib/python3.9/site-packages/sklearn/metrics/_classification.py:1531: UndefinedMetricWarning: Precision is ill-defined and being set to 0.0 in labels with no predicted samples. Use `zero_division` parameter to control this behavior.\n",
      "  _warn_prf(average, modifier, f\"{metric.capitalize()} is\", len(result))\n",
      "/lustre/lrspec/users/2649/miniconda3/envs/fox/lib/python3.9/site-packages/sklearn/metrics/_classification.py:1531: UndefinedMetricWarning: Precision is ill-defined and being set to 0.0 in labels with no predicted samples. Use `zero_division` parameter to control this behavior.\n",
      "  _warn_prf(average, modifier, f\"{metric.capitalize()} is\", len(result))\n",
      "/tmp/ipykernel_38151/1387699197.py:91: RuntimeWarning: invalid value encountered in divide\n",
      "  PPV = TP/(TP+FP)\n",
      "/tmp/ipykernel_38151/1387699197.py:99: RuntimeWarning: invalid value encountered in divide\n",
      "  FDR = FP/(TP+FP)\n"
     ]
    },
    {
     "name": "stdout",
     "output_type": "stream",
     "text": [
      "INFO:tensorflow:Restoring parameters from /lustre/lrspec/users/2649/DASH_vs_R/models/38/backup/model-500\n"
     ]
    },
    {
     "name": "stderr",
     "output_type": "stream",
     "text": [
      "/lustre/lrspec/users/2649/miniconda3/envs/fox/lib/python3.9/site-packages/sklearn/metrics/_classification.py:1531: UndefinedMetricWarning: Precision is ill-defined and being set to 0.0 in labels with no predicted samples. Use `zero_division` parameter to control this behavior.\n",
      "  _warn_prf(average, modifier, f\"{metric.capitalize()} is\", len(result))\n",
      "/lustre/lrspec/users/2649/miniconda3/envs/fox/lib/python3.9/site-packages/sklearn/metrics/_classification.py:1531: UndefinedMetricWarning: Precision is ill-defined and being set to 0.0 in labels with no predicted samples. Use `zero_division` parameter to control this behavior.\n",
      "  _warn_prf(average, modifier, f\"{metric.capitalize()} is\", len(result))\n",
      "/tmp/ipykernel_38151/1387699197.py:91: RuntimeWarning: invalid value encountered in divide\n",
      "  PPV = TP/(TP+FP)\n",
      "/tmp/ipykernel_38151/1387699197.py:99: RuntimeWarning: invalid value encountered in divide\n",
      "  FDR = FP/(TP+FP)\n"
     ]
    },
    {
     "name": "stdout",
     "output_type": "stream",
     "text": [
      "INFO:tensorflow:Restoring parameters from /lustre/lrspec/users/2649/DASH_vs_R/models/40/backup/model-500\n",
      "INFO:tensorflow:Restoring parameters from /lustre/lrspec/users/2649/DASH_vs_R/models/42/backup/model-450\n"
     ]
    },
    {
     "name": "stderr",
     "output_type": "stream",
     "text": [
      "/lustre/lrspec/users/2649/miniconda3/envs/fox/lib/python3.9/site-packages/sklearn/metrics/_classification.py:1531: UndefinedMetricWarning: Precision is ill-defined and being set to 0.0 in labels with no predicted samples. Use `zero_division` parameter to control this behavior.\n",
      "  _warn_prf(average, modifier, f\"{metric.capitalize()} is\", len(result))\n",
      "/lustre/lrspec/users/2649/miniconda3/envs/fox/lib/python3.9/site-packages/sklearn/metrics/_classification.py:1531: UndefinedMetricWarning: Precision is ill-defined and being set to 0.0 in labels with no predicted samples. Use `zero_division` parameter to control this behavior.\n",
      "  _warn_prf(average, modifier, f\"{metric.capitalize()} is\", len(result))\n",
      "/tmp/ipykernel_38151/1387699197.py:91: RuntimeWarning: invalid value encountered in divide\n",
      "  PPV = TP/(TP+FP)\n",
      "/tmp/ipykernel_38151/1387699197.py:99: RuntimeWarning: invalid value encountered in divide\n",
      "  FDR = FP/(TP+FP)\n"
     ]
    },
    {
     "name": "stdout",
     "output_type": "stream",
     "text": [
      "INFO:tensorflow:Restoring parameters from /lustre/lrspec/users/2649/DASH_vs_R/models/44/backup/model-600\n"
     ]
    },
    {
     "name": "stderr",
     "output_type": "stream",
     "text": [
      "/lustre/lrspec/users/2649/miniconda3/envs/fox/lib/python3.9/site-packages/sklearn/metrics/_classification.py:1531: UndefinedMetricWarning: Precision is ill-defined and being set to 0.0 in labels with no predicted samples. Use `zero_division` parameter to control this behavior.\n",
      "  _warn_prf(average, modifier, f\"{metric.capitalize()} is\", len(result))\n",
      "/lustre/lrspec/users/2649/miniconda3/envs/fox/lib/python3.9/site-packages/sklearn/metrics/_classification.py:1531: UndefinedMetricWarning: Precision is ill-defined and being set to 0.0 in labels with no predicted samples. Use `zero_division` parameter to control this behavior.\n",
      "  _warn_prf(average, modifier, f\"{metric.capitalize()} is\", len(result))\n",
      "/tmp/ipykernel_38151/1387699197.py:91: RuntimeWarning: invalid value encountered in divide\n",
      "  PPV = TP/(TP+FP)\n",
      "/tmp/ipykernel_38151/1387699197.py:99: RuntimeWarning: invalid value encountered in divide\n",
      "  FDR = FP/(TP+FP)\n"
     ]
    },
    {
     "name": "stdout",
     "output_type": "stream",
     "text": [
      "INFO:tensorflow:Restoring parameters from /lustre/lrspec/users/2649/DASH_vs_R/models/46/backup/model-550\n"
     ]
    },
    {
     "name": "stderr",
     "output_type": "stream",
     "text": [
      "/lustre/lrspec/users/2649/miniconda3/envs/fox/lib/python3.9/site-packages/sklearn/metrics/_classification.py:1531: UndefinedMetricWarning: Precision is ill-defined and being set to 0.0 in labels with no predicted samples. Use `zero_division` parameter to control this behavior.\n",
      "  _warn_prf(average, modifier, f\"{metric.capitalize()} is\", len(result))\n",
      "/lustre/lrspec/users/2649/miniconda3/envs/fox/lib/python3.9/site-packages/sklearn/metrics/_classification.py:1531: UndefinedMetricWarning: Precision is ill-defined and being set to 0.0 in labels with no predicted samples. Use `zero_division` parameter to control this behavior.\n",
      "  _warn_prf(average, modifier, f\"{metric.capitalize()} is\", len(result))\n",
      "/tmp/ipykernel_38151/1387699197.py:91: RuntimeWarning: invalid value encountered in divide\n",
      "  PPV = TP/(TP+FP)\n",
      "/tmp/ipykernel_38151/1387699197.py:99: RuntimeWarning: invalid value encountered in divide\n",
      "  FDR = FP/(TP+FP)\n"
     ]
    },
    {
     "name": "stdout",
     "output_type": "stream",
     "text": [
      "INFO:tensorflow:Restoring parameters from /lustre/lrspec/users/2649/DASH_vs_R/models/48/backup/model-500\n"
     ]
    },
    {
     "name": "stderr",
     "output_type": "stream",
     "text": [
      "/lustre/lrspec/users/2649/miniconda3/envs/fox/lib/python3.9/site-packages/sklearn/metrics/_classification.py:1531: UndefinedMetricWarning: Precision is ill-defined and being set to 0.0 in labels with no predicted samples. Use `zero_division` parameter to control this behavior.\n",
      "  _warn_prf(average, modifier, f\"{metric.capitalize()} is\", len(result))\n",
      "/lustre/lrspec/users/2649/miniconda3/envs/fox/lib/python3.9/site-packages/sklearn/metrics/_classification.py:1531: UndefinedMetricWarning: Precision is ill-defined and being set to 0.0 in labels with no predicted samples. Use `zero_division` parameter to control this behavior.\n",
      "  _warn_prf(average, modifier, f\"{metric.capitalize()} is\", len(result))\n",
      "/tmp/ipykernel_38151/1387699197.py:91: RuntimeWarning: invalid value encountered in divide\n",
      "  PPV = TP/(TP+FP)\n",
      "/tmp/ipykernel_38151/1387699197.py:99: RuntimeWarning: invalid value encountered in divide\n",
      "  FDR = FP/(TP+FP)\n"
     ]
    },
    {
     "name": "stdout",
     "output_type": "stream",
     "text": [
      "INFO:tensorflow:Restoring parameters from /lustre/lrspec/users/2649/DASH_vs_R/models/50/backup/model-650\n"
     ]
    },
    {
     "name": "stderr",
     "output_type": "stream",
     "text": [
      "/lustre/lrspec/users/2649/miniconda3/envs/fox/lib/python3.9/site-packages/sklearn/metrics/_classification.py:1531: UndefinedMetricWarning: Precision is ill-defined and being set to 0.0 in labels with no predicted samples. Use `zero_division` parameter to control this behavior.\n",
      "  _warn_prf(average, modifier, f\"{metric.capitalize()} is\", len(result))\n",
      "/lustre/lrspec/users/2649/miniconda3/envs/fox/lib/python3.9/site-packages/sklearn/metrics/_classification.py:1531: UndefinedMetricWarning: Precision is ill-defined and being set to 0.0 in labels with no predicted samples. Use `zero_division` parameter to control this behavior.\n",
      "  _warn_prf(average, modifier, f\"{metric.capitalize()} is\", len(result))\n",
      "/tmp/ipykernel_38151/1387699197.py:91: RuntimeWarning: invalid value encountered in divide\n",
      "  PPV = TP/(TP+FP)\n",
      "/tmp/ipykernel_38151/1387699197.py:99: RuntimeWarning: invalid value encountered in divide\n",
      "  FDR = FP/(TP+FP)\n"
     ]
    },
    {
     "name": "stdout",
     "output_type": "stream",
     "text": [
      "INFO:tensorflow:Restoring parameters from /lustre/lrspec/users/2649/DASH_vs_R/models/55/backup/model-500\n"
     ]
    },
    {
     "name": "stderr",
     "output_type": "stream",
     "text": [
      "/lustre/lrspec/users/2649/miniconda3/envs/fox/lib/python3.9/site-packages/sklearn/metrics/_classification.py:1531: UndefinedMetricWarning: Precision is ill-defined and being set to 0.0 in labels with no predicted samples. Use `zero_division` parameter to control this behavior.\n",
      "  _warn_prf(average, modifier, f\"{metric.capitalize()} is\", len(result))\n",
      "/lustre/lrspec/users/2649/miniconda3/envs/fox/lib/python3.9/site-packages/sklearn/metrics/_classification.py:1531: UndefinedMetricWarning: Precision is ill-defined and being set to 0.0 in labels with no predicted samples. Use `zero_division` parameter to control this behavior.\n",
      "  _warn_prf(average, modifier, f\"{metric.capitalize()} is\", len(result))\n",
      "/tmp/ipykernel_38151/1387699197.py:91: RuntimeWarning: invalid value encountered in divide\n",
      "  PPV = TP/(TP+FP)\n",
      "/tmp/ipykernel_38151/1387699197.py:99: RuntimeWarning: invalid value encountered in divide\n",
      "  FDR = FP/(TP+FP)\n"
     ]
    },
    {
     "name": "stdout",
     "output_type": "stream",
     "text": [
      "INFO:tensorflow:Restoring parameters from /lustre/lrspec/users/2649/DASH_vs_R/models/60/backup/model-550\n"
     ]
    },
    {
     "name": "stderr",
     "output_type": "stream",
     "text": [
      "/lustre/lrspec/users/2649/miniconda3/envs/fox/lib/python3.9/site-packages/sklearn/metrics/_classification.py:1531: UndefinedMetricWarning: Precision is ill-defined and being set to 0.0 in labels with no predicted samples. Use `zero_division` parameter to control this behavior.\n",
      "  _warn_prf(average, modifier, f\"{metric.capitalize()} is\", len(result))\n",
      "/lustre/lrspec/users/2649/miniconda3/envs/fox/lib/python3.9/site-packages/sklearn/metrics/_classification.py:1531: UndefinedMetricWarning: Precision is ill-defined and being set to 0.0 in labels with no predicted samples. Use `zero_division` parameter to control this behavior.\n",
      "  _warn_prf(average, modifier, f\"{metric.capitalize()} is\", len(result))\n",
      "/tmp/ipykernel_38151/1387699197.py:91: RuntimeWarning: invalid value encountered in divide\n",
      "  PPV = TP/(TP+FP)\n",
      "/tmp/ipykernel_38151/1387699197.py:99: RuntimeWarning: invalid value encountered in divide\n",
      "  FDR = FP/(TP+FP)\n"
     ]
    },
    {
     "name": "stdout",
     "output_type": "stream",
     "text": [
      "INFO:tensorflow:Restoring parameters from /lustre/lrspec/users/2649/DASH_vs_R/models/65/backup/model-650\n"
     ]
    },
    {
     "name": "stderr",
     "output_type": "stream",
     "text": [
      "/lustre/lrspec/users/2649/miniconda3/envs/fox/lib/python3.9/site-packages/sklearn/metrics/_classification.py:1531: UndefinedMetricWarning: Precision is ill-defined and being set to 0.0 in labels with no predicted samples. Use `zero_division` parameter to control this behavior.\n",
      "  _warn_prf(average, modifier, f\"{metric.capitalize()} is\", len(result))\n",
      "/lustre/lrspec/users/2649/miniconda3/envs/fox/lib/python3.9/site-packages/sklearn/metrics/_classification.py:1531: UndefinedMetricWarning: Precision is ill-defined and being set to 0.0 in labels with no predicted samples. Use `zero_division` parameter to control this behavior.\n",
      "  _warn_prf(average, modifier, f\"{metric.capitalize()} is\", len(result))\n",
      "/tmp/ipykernel_38151/1387699197.py:91: RuntimeWarning: invalid value encountered in divide\n",
      "  PPV = TP/(TP+FP)\n",
      "/tmp/ipykernel_38151/1387699197.py:99: RuntimeWarning: invalid value encountered in divide\n",
      "  FDR = FP/(TP+FP)\n"
     ]
    },
    {
     "name": "stdout",
     "output_type": "stream",
     "text": [
      "INFO:tensorflow:Restoring parameters from /lustre/lrspec/users/2649/DASH_vs_R/models/70/backup/model-600\n"
     ]
    },
    {
     "name": "stderr",
     "output_type": "stream",
     "text": [
      "/lustre/lrspec/users/2649/miniconda3/envs/fox/lib/python3.9/site-packages/sklearn/metrics/_classification.py:1531: UndefinedMetricWarning: Precision is ill-defined and being set to 0.0 in labels with no predicted samples. Use `zero_division` parameter to control this behavior.\n",
      "  _warn_prf(average, modifier, f\"{metric.capitalize()} is\", len(result))\n",
      "/lustre/lrspec/users/2649/miniconda3/envs/fox/lib/python3.9/site-packages/sklearn/metrics/_classification.py:1531: UndefinedMetricWarning: Precision is ill-defined and being set to 0.0 in labels with no predicted samples. Use `zero_division` parameter to control this behavior.\n",
      "  _warn_prf(average, modifier, f\"{metric.capitalize()} is\", len(result))\n",
      "/tmp/ipykernel_38151/1387699197.py:91: RuntimeWarning: invalid value encountered in divide\n",
      "  PPV = TP/(TP+FP)\n",
      "/tmp/ipykernel_38151/1387699197.py:99: RuntimeWarning: invalid value encountered in divide\n",
      "  FDR = FP/(TP+FP)\n"
     ]
    },
    {
     "name": "stdout",
     "output_type": "stream",
     "text": [
      "INFO:tensorflow:Restoring parameters from /lustre/lrspec/users/2649/DASH_vs_R/models/75/backup/model-450\n"
     ]
    },
    {
     "name": "stderr",
     "output_type": "stream",
     "text": [
      "/lustre/lrspec/users/2649/miniconda3/envs/fox/lib/python3.9/site-packages/sklearn/metrics/_classification.py:1531: UndefinedMetricWarning: Precision is ill-defined and being set to 0.0 in labels with no predicted samples. Use `zero_division` parameter to control this behavior.\n",
      "  _warn_prf(average, modifier, f\"{metric.capitalize()} is\", len(result))\n",
      "/lustre/lrspec/users/2649/miniconda3/envs/fox/lib/python3.9/site-packages/sklearn/metrics/_classification.py:1531: UndefinedMetricWarning: Precision is ill-defined and being set to 0.0 in labels with no predicted samples. Use `zero_division` parameter to control this behavior.\n",
      "  _warn_prf(average, modifier, f\"{metric.capitalize()} is\", len(result))\n",
      "/tmp/ipykernel_38151/1387699197.py:91: RuntimeWarning: invalid value encountered in divide\n",
      "  PPV = TP/(TP+FP)\n",
      "/tmp/ipykernel_38151/1387699197.py:99: RuntimeWarning: invalid value encountered in divide\n",
      "  FDR = FP/(TP+FP)\n"
     ]
    },
    {
     "name": "stdout",
     "output_type": "stream",
     "text": [
      "INFO:tensorflow:Restoring parameters from /lustre/lrspec/users/2649/DASH_vs_R/models/80/backup/model-550\n"
     ]
    },
    {
     "name": "stderr",
     "output_type": "stream",
     "text": [
      "/lustre/lrspec/users/2649/miniconda3/envs/fox/lib/python3.9/site-packages/sklearn/metrics/_classification.py:1531: UndefinedMetricWarning: Precision is ill-defined and being set to 0.0 in labels with no predicted samples. Use `zero_division` parameter to control this behavior.\n",
      "  _warn_prf(average, modifier, f\"{metric.capitalize()} is\", len(result))\n",
      "/lustre/lrspec/users/2649/miniconda3/envs/fox/lib/python3.9/site-packages/sklearn/metrics/_classification.py:1531: UndefinedMetricWarning: Precision is ill-defined and being set to 0.0 in labels with no predicted samples. Use `zero_division` parameter to control this behavior.\n",
      "  _warn_prf(average, modifier, f\"{metric.capitalize()} is\", len(result))\n",
      "/tmp/ipykernel_38151/1387699197.py:91: RuntimeWarning: invalid value encountered in divide\n",
      "  PPV = TP/(TP+FP)\n",
      "/tmp/ipykernel_38151/1387699197.py:99: RuntimeWarning: invalid value encountered in divide\n",
      "  FDR = FP/(TP+FP)\n"
     ]
    },
    {
     "name": "stdout",
     "output_type": "stream",
     "text": [
      "INFO:tensorflow:Restoring parameters from /lustre/lrspec/users/2649/DASH_vs_R/models/85/backup/model-500\n"
     ]
    },
    {
     "name": "stderr",
     "output_type": "stream",
     "text": [
      "/lustre/lrspec/users/2649/miniconda3/envs/fox/lib/python3.9/site-packages/sklearn/metrics/_classification.py:1531: UndefinedMetricWarning: Precision is ill-defined and being set to 0.0 in labels with no predicted samples. Use `zero_division` parameter to control this behavior.\n",
      "  _warn_prf(average, modifier, f\"{metric.capitalize()} is\", len(result))\n",
      "/lustre/lrspec/users/2649/miniconda3/envs/fox/lib/python3.9/site-packages/sklearn/metrics/_classification.py:1531: UndefinedMetricWarning: Precision is ill-defined and being set to 0.0 in labels with no predicted samples. Use `zero_division` parameter to control this behavior.\n",
      "  _warn_prf(average, modifier, f\"{metric.capitalize()} is\", len(result))\n",
      "/tmp/ipykernel_38151/1387699197.py:91: RuntimeWarning: invalid value encountered in divide\n",
      "  PPV = TP/(TP+FP)\n",
      "/tmp/ipykernel_38151/1387699197.py:99: RuntimeWarning: invalid value encountered in divide\n",
      "  FDR = FP/(TP+FP)\n"
     ]
    },
    {
     "name": "stdout",
     "output_type": "stream",
     "text": [
      "INFO:tensorflow:Restoring parameters from /lustre/lrspec/users/2649/DASH_vs_R/models/90/backup/model-500\n"
     ]
    },
    {
     "name": "stderr",
     "output_type": "stream",
     "text": [
      "/lustre/lrspec/users/2649/miniconda3/envs/fox/lib/python3.9/site-packages/sklearn/metrics/_classification.py:1531: UndefinedMetricWarning: Precision is ill-defined and being set to 0.0 in labels with no predicted samples. Use `zero_division` parameter to control this behavior.\n",
      "  _warn_prf(average, modifier, f\"{metric.capitalize()} is\", len(result))\n",
      "/lustre/lrspec/users/2649/miniconda3/envs/fox/lib/python3.9/site-packages/sklearn/metrics/_classification.py:1531: UndefinedMetricWarning: Precision is ill-defined and being set to 0.0 in labels with no predicted samples. Use `zero_division` parameter to control this behavior.\n",
      "  _warn_prf(average, modifier, f\"{metric.capitalize()} is\", len(result))\n",
      "/tmp/ipykernel_38151/1387699197.py:91: RuntimeWarning: invalid value encountered in divide\n",
      "  PPV = TP/(TP+FP)\n",
      "/tmp/ipykernel_38151/1387699197.py:99: RuntimeWarning: invalid value encountered in divide\n",
      "  FDR = FP/(TP+FP)\n"
     ]
    },
    {
     "name": "stdout",
     "output_type": "stream",
     "text": [
      "INFO:tensorflow:Restoring parameters from /lustre/lrspec/users/2649/DASH_vs_R/models/95/backup/model-600\n"
     ]
    },
    {
     "name": "stderr",
     "output_type": "stream",
     "text": [
      "/lustre/lrspec/users/2649/miniconda3/envs/fox/lib/python3.9/site-packages/sklearn/metrics/_classification.py:1531: UndefinedMetricWarning: Precision is ill-defined and being set to 0.0 in labels with no predicted samples. Use `zero_division` parameter to control this behavior.\n",
      "  _warn_prf(average, modifier, f\"{metric.capitalize()} is\", len(result))\n",
      "/lustre/lrspec/users/2649/miniconda3/envs/fox/lib/python3.9/site-packages/sklearn/metrics/_classification.py:1531: UndefinedMetricWarning: Precision is ill-defined and being set to 0.0 in labels with no predicted samples. Use `zero_division` parameter to control this behavior.\n",
      "  _warn_prf(average, modifier, f\"{metric.capitalize()} is\", len(result))\n",
      "/tmp/ipykernel_38151/1387699197.py:91: RuntimeWarning: invalid value encountered in divide\n",
      "  PPV = TP/(TP+FP)\n",
      "/tmp/ipykernel_38151/1387699197.py:99: RuntimeWarning: invalid value encountered in divide\n",
      "  FDR = FP/(TP+FP)\n"
     ]
    },
    {
     "name": "stdout",
     "output_type": "stream",
     "text": [
      "INFO:tensorflow:Restoring parameters from /lustre/lrspec/users/2649/DASH_vs_R/models/100/backup/model-550\n"
     ]
    },
    {
     "name": "stderr",
     "output_type": "stream",
     "text": [
      "/lustre/lrspec/users/2649/miniconda3/envs/fox/lib/python3.9/site-packages/sklearn/metrics/_classification.py:1531: UndefinedMetricWarning: Precision is ill-defined and being set to 0.0 in labels with no predicted samples. Use `zero_division` parameter to control this behavior.\n",
      "  _warn_prf(average, modifier, f\"{metric.capitalize()} is\", len(result))\n",
      "/lustre/lrspec/users/2649/miniconda3/envs/fox/lib/python3.9/site-packages/sklearn/metrics/_classification.py:1531: UndefinedMetricWarning: Precision is ill-defined and being set to 0.0 in labels with no predicted samples. Use `zero_division` parameter to control this behavior.\n",
      "  _warn_prf(average, modifier, f\"{metric.capitalize()} is\", len(result))\n",
      "/tmp/ipykernel_38151/1387699197.py:91: RuntimeWarning: invalid value encountered in divide\n",
      "  PPV = TP/(TP+FP)\n",
      "/tmp/ipykernel_38151/1387699197.py:99: RuntimeWarning: invalid value encountered in divide\n",
      "  FDR = FP/(TP+FP)\n"
     ]
    },
    {
     "name": "stdout",
     "output_type": "stream",
     "text": [
      "INFO:tensorflow:Restoring parameters from /lustre/lrspec/users/2649/DASH_vs_R/models/150/backup/model-650\n"
     ]
    },
    {
     "name": "stderr",
     "output_type": "stream",
     "text": [
      "/lustre/lrspec/users/2649/miniconda3/envs/fox/lib/python3.9/site-packages/sklearn/metrics/_classification.py:1531: UndefinedMetricWarning: Precision is ill-defined and being set to 0.0 in labels with no predicted samples. Use `zero_division` parameter to control this behavior.\n",
      "  _warn_prf(average, modifier, f\"{metric.capitalize()} is\", len(result))\n",
      "/lustre/lrspec/users/2649/miniconda3/envs/fox/lib/python3.9/site-packages/sklearn/metrics/_classification.py:1531: UndefinedMetricWarning: Precision is ill-defined and being set to 0.0 in labels with no predicted samples. Use `zero_division` parameter to control this behavior.\n",
      "  _warn_prf(average, modifier, f\"{metric.capitalize()} is\", len(result))\n",
      "/tmp/ipykernel_38151/1387699197.py:91: RuntimeWarning: invalid value encountered in divide\n",
      "  PPV = TP/(TP+FP)\n",
      "/tmp/ipykernel_38151/1387699197.py:99: RuntimeWarning: invalid value encountered in divide\n",
      "  FDR = FP/(TP+FP)\n"
     ]
    },
    {
     "name": "stdout",
     "output_type": "stream",
     "text": [
      "INFO:tensorflow:Restoring parameters from /lustre/lrspec/users/2649/DASH_vs_R/models/200/backup/model-550\n"
     ]
    },
    {
     "name": "stderr",
     "output_type": "stream",
     "text": [
      "/lustre/lrspec/users/2649/miniconda3/envs/fox/lib/python3.9/site-packages/sklearn/metrics/_classification.py:1531: UndefinedMetricWarning: Precision is ill-defined and being set to 0.0 in labels with no predicted samples. Use `zero_division` parameter to control this behavior.\n",
      "  _warn_prf(average, modifier, f\"{metric.capitalize()} is\", len(result))\n",
      "/lustre/lrspec/users/2649/miniconda3/envs/fox/lib/python3.9/site-packages/sklearn/metrics/_classification.py:1531: UndefinedMetricWarning: Precision is ill-defined and being set to 0.0 in labels with no predicted samples. Use `zero_division` parameter to control this behavior.\n",
      "  _warn_prf(average, modifier, f\"{metric.capitalize()} is\", len(result))\n",
      "/tmp/ipykernel_38151/1387699197.py:91: RuntimeWarning: invalid value encountered in divide\n",
      "  PPV = TP/(TP+FP)\n",
      "/tmp/ipykernel_38151/1387699197.py:99: RuntimeWarning: invalid value encountered in divide\n",
      "  FDR = FP/(TP+FP)\n"
     ]
    },
    {
     "name": "stdout",
     "output_type": "stream",
     "text": [
      "INFO:tensorflow:Restoring parameters from /lustre/lrspec/users/2649/DASH_vs_R/models/300/backup/model-550\n"
     ]
    },
    {
     "name": "stderr",
     "output_type": "stream",
     "text": [
      "/lustre/lrspec/users/2649/miniconda3/envs/fox/lib/python3.9/site-packages/sklearn/metrics/_classification.py:1531: UndefinedMetricWarning: Precision is ill-defined and being set to 0.0 in labels with no predicted samples. Use `zero_division` parameter to control this behavior.\n",
      "  _warn_prf(average, modifier, f\"{metric.capitalize()} is\", len(result))\n",
      "/lustre/lrspec/users/2649/miniconda3/envs/fox/lib/python3.9/site-packages/sklearn/metrics/_classification.py:1531: UndefinedMetricWarning: Precision is ill-defined and being set to 0.0 in labels with no predicted samples. Use `zero_division` parameter to control this behavior.\n",
      "  _warn_prf(average, modifier, f\"{metric.capitalize()} is\", len(result))\n",
      "/tmp/ipykernel_38151/1387699197.py:91: RuntimeWarning: invalid value encountered in divide\n",
      "  PPV = TP/(TP+FP)\n",
      "/tmp/ipykernel_38151/1387699197.py:99: RuntimeWarning: invalid value encountered in divide\n",
      "  FDR = FP/(TP+FP)\n"
     ]
    },
    {
     "name": "stdout",
     "output_type": "stream",
     "text": [
      "INFO:tensorflow:Restoring parameters from /lustre/lrspec/users/2649/DASH_vs_R/models/400/backup/model-650\n"
     ]
    },
    {
     "name": "stderr",
     "output_type": "stream",
     "text": [
      "/lustre/lrspec/users/2649/miniconda3/envs/fox/lib/python3.9/site-packages/sklearn/metrics/_classification.py:1531: UndefinedMetricWarning: Precision is ill-defined and being set to 0.0 in labels with no predicted samples. Use `zero_division` parameter to control this behavior.\n",
      "  _warn_prf(average, modifier, f\"{metric.capitalize()} is\", len(result))\n",
      "/lustre/lrspec/users/2649/miniconda3/envs/fox/lib/python3.9/site-packages/sklearn/metrics/_classification.py:1531: UndefinedMetricWarning: Precision is ill-defined and being set to 0.0 in labels with no predicted samples. Use `zero_division` parameter to control this behavior.\n",
      "  _warn_prf(average, modifier, f\"{metric.capitalize()} is\", len(result))\n",
      "/tmp/ipykernel_38151/1387699197.py:91: RuntimeWarning: invalid value encountered in divide\n",
      "  PPV = TP/(TP+FP)\n",
      "/tmp/ipykernel_38151/1387699197.py:99: RuntimeWarning: invalid value encountered in divide\n",
      "  FDR = FP/(TP+FP)\n"
     ]
    },
    {
     "name": "stdout",
     "output_type": "stream",
     "text": [
      "INFO:tensorflow:Restoring parameters from /lustre/lrspec/users/2649/DASH_vs_R/models/500/backup/model-500\n"
     ]
    },
    {
     "name": "stderr",
     "output_type": "stream",
     "text": [
      "/lustre/lrspec/users/2649/miniconda3/envs/fox/lib/python3.9/site-packages/sklearn/metrics/_classification.py:1531: UndefinedMetricWarning: Precision is ill-defined and being set to 0.0 in labels with no predicted samples. Use `zero_division` parameter to control this behavior.\n",
      "  _warn_prf(average, modifier, f\"{metric.capitalize()} is\", len(result))\n",
      "/lustre/lrspec/users/2649/miniconda3/envs/fox/lib/python3.9/site-packages/sklearn/metrics/_classification.py:1531: UndefinedMetricWarning: Precision is ill-defined and being set to 0.0 in labels with no predicted samples. Use `zero_division` parameter to control this behavior.\n",
      "  _warn_prf(average, modifier, f\"{metric.capitalize()} is\", len(result))\n",
      "/tmp/ipykernel_38151/1387699197.py:91: RuntimeWarning: invalid value encountered in divide\n",
      "  PPV = TP/(TP+FP)\n",
      "/tmp/ipykernel_38151/1387699197.py:99: RuntimeWarning: invalid value encountered in divide\n",
      "  FDR = FP/(TP+FP)\n"
     ]
    },
    {
     "name": "stdout",
     "output_type": "stream",
     "text": [
      "INFO:tensorflow:Restoring parameters from /lustre/lrspec/users/2649/DASH_vs_R/models/600/backup/model-600\n"
     ]
    },
    {
     "name": "stderr",
     "output_type": "stream",
     "text": [
      "/lustre/lrspec/users/2649/miniconda3/envs/fox/lib/python3.9/site-packages/sklearn/metrics/_classification.py:1531: UndefinedMetricWarning: Precision is ill-defined and being set to 0.0 in labels with no predicted samples. Use `zero_division` parameter to control this behavior.\n",
      "  _warn_prf(average, modifier, f\"{metric.capitalize()} is\", len(result))\n",
      "/lustre/lrspec/users/2649/miniconda3/envs/fox/lib/python3.9/site-packages/sklearn/metrics/_classification.py:1531: UndefinedMetricWarning: Precision is ill-defined and being set to 0.0 in labels with no predicted samples. Use `zero_division` parameter to control this behavior.\n",
      "  _warn_prf(average, modifier, f\"{metric.capitalize()} is\", len(result))\n",
      "/tmp/ipykernel_38151/1387699197.py:91: RuntimeWarning: invalid value encountered in divide\n",
      "  PPV = TP/(TP+FP)\n",
      "/tmp/ipykernel_38151/1387699197.py:99: RuntimeWarning: invalid value encountered in divide\n",
      "  FDR = FP/(TP+FP)\n"
     ]
    },
    {
     "name": "stdout",
     "output_type": "stream",
     "text": [
      "INFO:tensorflow:Restoring parameters from /lustre/lrspec/users/2649/DASH_vs_R/models/700/backup/model-700\n",
      "INFO:tensorflow:Restoring parameters from /lustre/lrspec/users/2649/DASH_vs_R/models/738/backup/model-600\n"
     ]
    }
   ],
   "source": [
    "all_metrics = []\n",
    "for R in R_arr:\n",
    "    performance_tst, performance_per_class_tst = get_DASH_results(R, MODELS_PATH)\n",
    "    all_metrics.extend([performance_tst, performance_per_class_tst])"
   ]
  },
  {
   "cell_type": "code",
   "execution_count": 7,
   "id": "ccbae6c8-575d-4fca-a8ec-75d4cd725d44",
   "metadata": {},
   "outputs": [],
   "source": [
    "# acc, f1_macro, f1_weighted, precision_macro, precision_weighted, recall_macro, recall_weighted\n",
    "arr_acc = []\n",
    "arr_f1_macro = []\n",
    "arr_f1_weighted = []\n",
    "arr_precision_macro = []\n",
    "arr_precision_weighted = []\n",
    "arr_recall_macro = []\n",
    "arr_recall_weighted = []\n",
    "for i, R in enumerate(R_arr):\n",
    "    acc, f1_macro, f1_weighted, precision_macro, precision_weighted, recall_macro, recall_weighted = all_metrics[i*2]\n",
    "    arr_acc.append(acc)\n",
    "    arr_f1_macro.append(f1_macro)\n",
    "    arr_f1_weighted.append(f1_weighted)\n",
    "    arr_precision_macro.append(precision_macro)\n",
    "    arr_precision_weighted.append(precision_weighted)\n",
    "    arr_recall_macro.append(recall_macro)\n",
    "    arr_recall_weighted.append(recall_weighted)"
   ]
  },
  {
   "cell_type": "code",
   "execution_count": 9,
   "id": "dd1ad3cd-f870-48f9-8a85-5190d6048829",
   "metadata": {},
   "outputs": [],
   "source": [
    "# FP, FN, TP, TN, TPR, TNR, PPV, NPV, FPR, FNR, FDR, ACC\n",
    "num_classes = 16\n",
    "arr_FP = np.zeros([num_classes, len(R_arr)])\n",
    "arr_FN = np.zeros([num_classes, len(R_arr)])\n",
    "arr_TP = np.zeros([num_classes, len(R_arr)])\n",
    "arr_TN = np.zeros([num_classes, len(R_arr)])\n",
    "arr_TPR = np.zeros([num_classes, len(R_arr)])\n",
    "arr_TNR = np.zeros([num_classes, len(R_arr)])\n",
    "arr_PPV = np.zeros([num_classes, len(R_arr)])\n",
    "arr_NPV = np.zeros([num_classes, len(R_arr)])\n",
    "arr_FPR = np.zeros([num_classes, len(R_arr)])\n",
    "arr_FNR = np.zeros([num_classes, len(R_arr)])\n",
    "arr_FDR = np.zeros([num_classes, len(R_arr)])\n",
    "arr_ACC = np.zeros([num_classes, len(R_arr)])\n",
    "for i, R in enumerate(R_arr):\n",
    "    FP, FN, TP, TN, TPR, TNR, PPV, NPV, FPR, FNR, FDR, ACC = all_metrics[i*2 + 1]\n",
    "\n",
    "    arr_FP[:, i] = FP\n",
    "    arr_FN[:, i] = FN\n",
    "    arr_TP[:, i] = TP\n",
    "    arr_TN[:, i] = TN\n",
    "    arr_TPR[:, i] = TPR\n",
    "    arr_TNR[:, i] = TNR\n",
    "    arr_PPV[:, i] = PPV\n",
    "    arr_NPV[:, i] = NPV\n",
    "    arr_FPR[:, i] = FPR\n",
    "    arr_FNR[:, i] = FNR\n",
    "    arr_FDR[:, i] = FDR\n",
    "    arr_ACC[:, i] = ACC"
   ]
  },
  {
   "cell_type": "code",
   "execution_count": 18,
   "id": "4701187e-5b07-40dd-b215-1d326149f38b",
   "metadata": {},
   "outputs": [
    {
     "data": {
      "text/plain": [
       "[3, 5, 9, 12, 14, 15, 16]"
      ]
     },
     "execution_count": 18,
     "metadata": {},
     "output_type": "execute_result"
    }
   ],
   "source": [
    "# WWW Consider a config file for these\n",
    "\"\"\"Initialize useful dictionaries for SN data.\"\"\"\n",
    "SNtypes_str = np.array(\n",
    "    [\n",
    "        \"Ia-norm\",\n",
    "        \"Ia-91T\",\n",
    "        \"Ia-91bg\",\n",
    "        \"Ia-csm\",\n",
    "        \"Iax\",\n",
    "        \"Ia-pec\",\n",
    "        \"Ib-norm\",\n",
    "        \"Ibn\",\n",
    "        \"IIb\",\n",
    "        \"Ib-pec\",\n",
    "        \"Ic-norm\",\n",
    "        \"Ic-broad\",\n",
    "        \"Ic-pec\",\n",
    "        \"IIP\",\n",
    "        \"IIL\",\n",
    "        \"IIn\",\n",
    "        \"II-pec\",\n",
    "    ]\n",
    ")\n",
    "SNtypes_int = np.arange(SNtypes_str.size)\n",
    "SNtypes_str_to_int = {\n",
    "    SNtype_str: SNtype_int for SNtype_str, SNtype_int in zip(SNtypes_str, SNtypes_int)\n",
    "}\n",
    "SNtypes_int_to_str = {j: i for i, j in SNtypes_str_to_int.items()}\n",
    "\n",
    "\n",
    "SNbroadtypes_str = np.array([\"Ia\", \"Ib\", \"Ic\", \"II\"])\n",
    "SNbroadtypes_int = np.arange(SNbroadtypes_str.size)\n",
    "SNbroadtypes_str_to_int = {\n",
    "    SNbroadtype_str: SNbroadtype_int\n",
    "    for SNbroadtype_str, SNbroadtype_int in zip(SNbroadtypes_str, SNbroadtypes_int)\n",
    "}\n",
    "SNbroadtypes_int_to_str = {j: i for i, j in SNbroadtypes_str_to_int.items()}\n",
    "\n",
    "\n",
    "\"\"\"Common corrections for SN names\"\"\"\n",
    "SNtypes_str_to_int[\"Ia-02cx\"] = SNtypes_str_to_int[\"Iax\"]\n",
    "SNtypes_str_to_int[\"Ia-99aa\"] = SNtypes_str_to_int[\"Ia-91T\"]\n",
    "SNtypes_str_to_int[\"Ib\"] = SNtypes_str_to_int[\"Ib-norm\"]\n",
    "SNtypes_str_to_int[\"Ic\"] = SNtypes_str_to_int[\"Ic-norm\"]\n",
    "\n",
    "EXCLUDED_SNTYPES = [\"Ia-csm\", \"Ia-pec\", \"Ib-pec\", \"Ic-pec\", \"IIL\", \"IIn\", \"II-pec\"]\n",
    "EXCLUDED_SNTYPES_int = [SNtypes_str_to_int[SNtype_str] for SNtype_str in EXCLUDED_SNTYPES]\n",
    "EXCLUDED_SNTYPES_int"
   ]
  },
  {
   "cell_type": "code",
   "execution_count": 23,
   "id": "e9b0093c-8d54-498e-8914-4fa3d4cb58f9",
   "metadata": {},
   "outputs": [
    {
     "data": {
      "text/plain": [
       "array([ 0,  1,  2,  4,  6,  7,  8, 10, 11, 13])"
      ]
     },
     "execution_count": 23,
     "metadata": {},
     "output_type": "execute_result"
    }
   ],
   "source": [
    "good_sntypes = np.array([0, 1, 2, 4, 6, 7, 8, 10, 11, 13])\n",
    "good_sntypes"
   ]
  },
  {
   "cell_type": "code",
   "execution_count": 33,
   "id": "97e071c7-37cb-4c7a-bb17-11d09e63775e",
   "metadata": {},
   "outputs": [
    {
     "data": {
      "image/png": "[encoded data removed]",
      "text/plain": [
       "<Figure size 1400x700 with 1 Axes>"
      ]
     },
     "metadata": {},
     "output_type": "display_data"
    }
   ],
   "source": [
    "fontsize = 30\n",
    "\n",
    "\n",
    "fig, ax = plt.subplots(figsize=(14, 7))\n",
    "\n",
    "ax.set_xscale(\"log\")\n",
    "ax.grid()\n",
    "\n",
    "xticks = [738, 100, 50, 30, 10]\n",
    "ax.set_xticks(ticks=xticks, labels=xticks, size=fontsize)\n",
    "\n",
    "yticks = [0, 0.20, 0.40, 0.60, 0.80, 1.0]\n",
    "yticklabels = [\"0\", \".2\", \".4\", \".6\", \".8\", \"1\"]\n",
    "ax.set_yticks(ticks=yticks, labels=yticklabels, size=fontsize)\n",
    "\n",
    "ax.set_xlim((1000, 5))\n",
    "ax.set_ylim((0, 1.1))\n",
    "\n",
    "ax.set_xlabel(\"Spectral Resolution, R\", fontsize=fontsize)\n",
    "ax.set_ylabel(\"Score\", fontsize=fontsize)\n",
    "\n",
    "ax.axvline(x=30, ls=\"--\", c=\"k\", lw=5)\n",
    "\n",
    "ax.scatter(R_arr, arr_f1_macro, s=100, color=\"tab:blue\", label=\"Macro F1-Score\")\n",
    "\n",
    "sntype = \"Ia-norm\"\n",
    "ind = np.where(np.array(used_subtypes_tst_str) == sntype)[0][0]\n",
    "ax.scatter(R_arr, arr_ACC[ind], s=100, color=\"tab:orange\", label=f\"{sntype} Accuracy\")\n",
    "\n",
    "ax.legend(loc=\"upper left\", fontsize=fontsize)\n",
    "\n",
    "plt.tight_layout()\n",
    "# plt.savefig(os.path.join(figdir, \"performance_vs_R.pdf\"))\n",
    "# plt.savefig(os.path.join(figdir, \"performance_vs_R.png\"))\n",
    "fig.show()"
   ]
  },
  {
   "cell_type": "code",
   "execution_count": null,
   "id": "50a4ebc3-959a-42a9-884e-d1427bb0a342",
   "metadata": {},
   "outputs": [],
   "source": []
  }
 ],
 "metadata": {
  "kernelspec": {
   "display_name": "Python 3 (ipykernel)",
   "language": "python",
   "name": "python3"
  },
  "language_info": {
   "codemirror_mode": {
    "name": "ipython",
    "version": 3
   },
   "file_extension": ".py",
   "mimetype": "text/x-python",
   "name": "python",
   "nbconvert_exporter": "python",
   "pygments_lexer": "ipython3",
   "version": "3.9.19"
  }
 },
 "nbformat": 4,
 "nbformat_minor": 5
}
